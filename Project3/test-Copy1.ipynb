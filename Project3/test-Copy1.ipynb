{
 "cells": [
  {
   "cell_type": "code",
   "execution_count": 3,
   "metadata": {},
   "outputs": [],
   "source": [
    "import pandas as pd\n",
    "import boto3\n",
    "import json"
   ]
  },
  {
   "cell_type": "code",
   "execution_count": 4,
   "metadata": {},
   "outputs": [
    {
     "data": {
      "text/html": [
       "<div>\n",
       "<style scoped>\n",
       "    .dataframe tbody tr th:only-of-type {\n",
       "        vertical-align: middle;\n",
       "    }\n",
       "\n",
       "    .dataframe tbody tr th {\n",
       "        vertical-align: top;\n",
       "    }\n",
       "\n",
       "    .dataframe thead th {\n",
       "        text-align: right;\n",
       "    }\n",
       "</style>\n",
       "<table border=\"1\" class=\"dataframe\">\n",
       "  <thead>\n",
       "    <tr style=\"text-align: right;\">\n",
       "      <th></th>\n",
       "      <th>Param</th>\n",
       "      <th>Value</th>\n",
       "    </tr>\n",
       "  </thead>\n",
       "  <tbody>\n",
       "    <tr>\n",
       "      <th>0</th>\n",
       "      <td>DWH_CLUSTER_TYPE</td>\n",
       "      <td>multi-node</td>\n",
       "    </tr>\n",
       "    <tr>\n",
       "      <th>1</th>\n",
       "      <td>DWH_NUM_NODES</td>\n",
       "      <td>4</td>\n",
       "    </tr>\n",
       "    <tr>\n",
       "      <th>2</th>\n",
       "      <td>DWH_NODE_TYPE</td>\n",
       "      <td>dc2.large</td>\n",
       "    </tr>\n",
       "    <tr>\n",
       "      <th>3</th>\n",
       "      <td>DWH_CLUSTER_IDENTIFIER</td>\n",
       "      <td>dwhCluster-sparkify</td>\n",
       "    </tr>\n",
       "    <tr>\n",
       "      <th>4</th>\n",
       "      <td>DWH_DB</td>\n",
       "      <td>dwh_sparkify</td>\n",
       "    </tr>\n",
       "    <tr>\n",
       "      <th>5</th>\n",
       "      <td>DWH_DB_USER</td>\n",
       "      <td>dwhuser_sparkify</td>\n",
       "    </tr>\n",
       "    <tr>\n",
       "      <th>6</th>\n",
       "      <td>DWH_DB_PASSWORD</td>\n",
       "      <td>Passw0rd</td>\n",
       "    </tr>\n",
       "    <tr>\n",
       "      <th>7</th>\n",
       "      <td>DWH_PORT</td>\n",
       "      <td>5439</td>\n",
       "    </tr>\n",
       "    <tr>\n",
       "      <th>8</th>\n",
       "      <td>DWH_IAM_ROLE_NAME</td>\n",
       "      <td>dwhRole_sparkify</td>\n",
       "    </tr>\n",
       "  </tbody>\n",
       "</table>\n",
       "</div>"
      ],
      "text/plain": [
       "                    Param                Value\n",
       "0        DWH_CLUSTER_TYPE           multi-node\n",
       "1           DWH_NUM_NODES                    4\n",
       "2           DWH_NODE_TYPE            dc2.large\n",
       "3  DWH_CLUSTER_IDENTIFIER  dwhCluster-sparkify\n",
       "4                  DWH_DB         dwh_sparkify\n",
       "5             DWH_DB_USER     dwhuser_sparkify\n",
       "6         DWH_DB_PASSWORD             Passw0rd\n",
       "7                DWH_PORT                 5439\n",
       "8       DWH_IAM_ROLE_NAME     dwhRole_sparkify"
      ]
     },
     "execution_count": 4,
     "metadata": {},
     "output_type": "execute_result"
    }
   ],
   "source": [
    "import configparser\n",
    "config = configparser.ConfigParser()\n",
    "config.read_file(open('dwh.cfg'))\n",
    "\n",
    "KEY                    = config.get('AWS','KEY')\n",
    "SECRET                 = config.get('AWS','SECRET')\n",
    "\n",
    "DWH_CLUSTER_TYPE       = config.get(\"DWH\",\"DWH_CLUSTER_TYPE\")\n",
    "DWH_NUM_NODES          = config.get(\"DWH\",\"DWH_NUM_NODES\")\n",
    "DWH_NODE_TYPE          = config.get(\"DWH\",\"DWH_NODE_TYPE\")\n",
    "\n",
    "DWH_CLUSTER_IDENTIFIER = config.get(\"DWH\",\"DWH_CLUSTER_IDENTIFIER\")\n",
    "DWH_DB                 = config.get(\"DWH\",\"DWH_DB\")\n",
    "DWH_DB_USER            = config.get(\"DWH\",\"DWH_DB_USER\")\n",
    "DWH_DB_PASSWORD        = config.get(\"DWH\",\"DWH_DB_PASSWORD\")\n",
    "DWH_PORT               = config.get(\"DWH\",\"DWH_PORT\")\n",
    "\n",
    "DWH_IAM_ROLE_NAME      = config.get(\"DWH\", \"DWH_IAM_ROLE_NAME\")\n",
    "\n",
    "(DWH_DB_USER, DWH_DB_PASSWORD, DWH_DB)\n",
    "\n",
    "pd.DataFrame({\"Param\":\n",
    "                  [\"DWH_CLUSTER_TYPE\", \"DWH_NUM_NODES\", \"DWH_NODE_TYPE\", \"DWH_CLUSTER_IDENTIFIER\",\n",
    "                   \"DWH_DB\", \"DWH_DB_USER\", \"DWH_DB_PASSWORD\", \"DWH_PORT\", \"DWH_IAM_ROLE_NAME\"],\n",
    "              \n",
    "              \"Value\":\n",
    "                  [DWH_CLUSTER_TYPE, DWH_NUM_NODES, DWH_NODE_TYPE, DWH_CLUSTER_IDENTIFIER,\n",
    "                   DWH_DB, DWH_DB_USER, DWH_DB_PASSWORD, DWH_PORT, DWH_IAM_ROLE_NAME]\n",
    "             })"
   ]
  },
  {
   "cell_type": "code",
   "execution_count": 5,
   "metadata": {},
   "outputs": [],
   "source": [
    "s3 = boto3.resource('s3',\n",
    "                  region_name=\"us-west-2\",\n",
    "                  aws_access_key_id=KEY,\n",
    "                  aws_secret_access_key=SECRET\n",
    "                  )"
   ]
  },
  {
   "cell_type": "code",
   "execution_count": 6,
   "metadata": {},
   "outputs": [],
   "source": [
    "bucket =  s3.Bucket(\"udacity-dend\")\n",
    "\n",
    "# Iterating over bucket objects, printing them if they start with \"ssbgz\"\n",
    "# for page in sampleDbBucket.objects.pages():\n",
    "#      for obj in page:\n",
    "#             if obj.key[:5] == 'song':\n",
    "#                 print(obj.key)"
   ]
  },
  {
   "cell_type": "code",
   "execution_count": 7,
   "metadata": {},
   "outputs": [
    {
     "data": {
      "text/plain": [
       "[s3.ObjectSummary(bucket_name='udacity-dend', key='song-data/A/A/A/TRAAAAK128F9318786.json'),\n",
       " s3.ObjectSummary(bucket_name='udacity-dend', key='song-data/A/A/A/TRAAAAV128F421A322.json'),\n",
       " s3.ObjectSummary(bucket_name='udacity-dend', key='song-data/A/A/A/TRAAABD128F429CF47.json'),\n",
       " s3.ObjectSummary(bucket_name='udacity-dend', key='song-data/A/A/A/TRAAACN128F9355673.json'),\n",
       " s3.ObjectSummary(bucket_name='udacity-dend', key='song-data/A/A/A/TRAAAEA128F935A30D.json'),\n",
       " s3.ObjectSummary(bucket_name='udacity-dend', key='song-data/A/A/A/TRAAAED128E0783FAB.json'),\n",
       " s3.ObjectSummary(bucket_name='udacity-dend', key='song-data/A/A/A/TRAAAEM128F93347B9.json'),\n",
       " s3.ObjectSummary(bucket_name='udacity-dend', key='song-data/A/A/A/TRAAAEW128F42930C0.json'),\n",
       " s3.ObjectSummary(bucket_name='udacity-dend', key='song-data/A/A/A/TRAAAFD128F92F423A.json'),\n",
       " s3.ObjectSummary(bucket_name='udacity-dend', key='song-data/A/A/A/TRAAAGR128F425B14B.json')]"
      ]
     },
     "execution_count": 7,
     "metadata": {},
     "output_type": "execute_result"
    }
   ],
   "source": [
    "f = [filename for filename in bucket.objects.filter(Prefix='song-data/A/A').limit(10)]\n",
    "f"
   ]
  },
  {
   "cell_type": "code",
   "execution_count": 28,
   "metadata": {},
   "outputs": [
    {
     "data": {
      "text/plain": [
       "'{\"song_id\": \"SOBLFFE12AF72AA5BA\", \"num_songs\": 1, \"title\": \"Scream\", \"artist_name\": \"Adelitas Way\", \"artist_latitude\": null, \"year\": 2009, \"duration\": 213.9424, \"artist_id\": \"ARJNIUY12298900C91\", \"artist_longitude\": null, \"artist_location\": \"\"}'"
      ]
     },
     "execution_count": 28,
     "metadata": {},
     "output_type": "execute_result"
    }
   ],
   "source": [
    "obj = s3.Object(\"udacity-dend\", f[0].key)\n",
    "body = obj.get()['Body'].read()\n",
    "dict_str = body.decode(\"UTF-8\")\n",
    "dict_str"
   ]
  },
  {
   "cell_type": "code",
   "execution_count": 35,
   "metadata": {},
   "outputs": [],
   "source": [
    "d = {\"song_id\": \"SOBLFFE12AF72AA5BA\", \"num_songs\": 1, \"title\": \"Scream\", \"artist_name\": \"Adelitas Way\", \n",
    "      \"artist_latitude\": None, \"year\": 2009, \"duration\": 213.9424, \"artist_id\": \"ARJNIUY12298900C91\",\n",
    "      \"artist_longitude\": None, \"artist_location\": \"\"}"
   ]
  },
  {
   "cell_type": "code",
   "execution_count": 26,
   "metadata": {},
   "outputs": [
    {
     "data": {
      "text/html": [
       "<div>\n",
       "<style scoped>\n",
       "    .dataframe tbody tr th:only-of-type {\n",
       "        vertical-align: middle;\n",
       "    }\n",
       "\n",
       "    .dataframe tbody tr th {\n",
       "        vertical-align: top;\n",
       "    }\n",
       "\n",
       "    .dataframe thead th {\n",
       "        text-align: right;\n",
       "    }\n",
       "</style>\n",
       "<table border=\"1\" class=\"dataframe\">\n",
       "  <thead>\n",
       "    <tr style=\"text-align: right;\">\n",
       "      <th></th>\n",
       "      <th>song_id</th>\n",
       "      <th>num_songs</th>\n",
       "      <th>title</th>\n",
       "      <th>artist_name</th>\n",
       "      <th>artist_latitude</th>\n",
       "      <th>year</th>\n",
       "      <th>duration</th>\n",
       "      <th>artist_id</th>\n",
       "      <th>artist_longitude</th>\n",
       "      <th>artist_location</th>\n",
       "    </tr>\n",
       "  </thead>\n",
       "  <tbody>\n",
       "    <tr>\n",
       "      <th>0</th>\n",
       "      <td>SOBLFFE12AF72AA5BA</td>\n",
       "      <td>1</td>\n",
       "      <td>Scream</td>\n",
       "      <td>Adelitas Way</td>\n",
       "      <td>None</td>\n",
       "      <td>2009</td>\n",
       "      <td>213.9424</td>\n",
       "      <td>ARJNIUY12298900C91</td>\n",
       "      <td>None</td>\n",
       "      <td></td>\n",
       "    </tr>\n",
       "  </tbody>\n",
       "</table>\n",
       "</div>"
      ],
      "text/plain": [
       "              song_id  num_songs   title   artist_name artist_latitude  year  \\\n",
       "0  SOBLFFE12AF72AA5BA          1  Scream  Adelitas Way            None  2009   \n",
       "\n",
       "   duration           artist_id artist_longitude artist_location  \n",
       "0  213.9424  ARJNIUY12298900C91             None                  "
      ]
     },
     "execution_count": 26,
     "metadata": {},
     "output_type": "execute_result"
    }
   ],
   "source": [
    "pd.DataFrame(data=d, index=[0])"
   ]
  },
  {
   "cell_type": "code",
   "execution_count": 31,
   "metadata": {},
   "outputs": [
    {
     "data": {
      "text/plain": [
       "[s3.ObjectSummary(bucket_name='udacity-dend', key='log-data/'),\n",
       " s3.ObjectSummary(bucket_name='udacity-dend', key='log-data/2018/11/2018-11-01-events.json'),\n",
       " s3.ObjectSummary(bucket_name='udacity-dend', key='log-data/2018/11/2018-11-02-events.json'),\n",
       " s3.ObjectSummary(bucket_name='udacity-dend', key='log-data/2018/11/2018-11-03-events.json'),\n",
       " s3.ObjectSummary(bucket_name='udacity-dend', key='log-data/2018/11/2018-11-04-events.json'),\n",
       " s3.ObjectSummary(bucket_name='udacity-dend', key='log-data/2018/11/2018-11-05-events.json'),\n",
       " s3.ObjectSummary(bucket_name='udacity-dend', key='log-data/2018/11/2018-11-06-events.json'),\n",
       " s3.ObjectSummary(bucket_name='udacity-dend', key='log-data/2018/11/2018-11-07-events.json'),\n",
       " s3.ObjectSummary(bucket_name='udacity-dend', key='log-data/2018/11/2018-11-08-events.json'),\n",
       " s3.ObjectSummary(bucket_name='udacity-dend', key='log-data/2018/11/2018-11-09-events.json')]"
      ]
     },
     "execution_count": 31,
     "metadata": {},
     "output_type": "execute_result"
    }
   ],
   "source": [
    "g = [filename for filename in bucket.objects.filter(Prefix='log').limit(10)]\n",
    "g"
   ]
  },
  {
   "cell_type": "code",
   "execution_count": 45,
   "metadata": {},
   "outputs": [
    {
     "data": {
      "text/plain": [
       "'{\"artist\":null,\"auth\":\"Logged In\",\"firstName\":\"Walter\",\"gender\":\"M\",\"itemInSession\":0,\"lastName\":\"Frye\",\"length\":null,\"level\":\"free\",\"location\":\"San Francisco-Oakland-Hayward, CA\",\"method\":\"GET\",\"page\":\"Home\",\"registration\":1540919166796.0,\"sessionId\":38,\"song\":null,\"status\":200,\"ts\":1541105830796,\"userAgent\":\"\\\\\"Mozilla\\\\/5.0 (Macintosh; Intel Mac OS X 10_9_4) AppleWebKit\\\\/537.36 (KHTML, like Gecko) Chrome\\\\/36.0.1985.143 Safari\\\\/537.36\\\\\"\",\"userId\":\"39\"}\\n{\"artist\":null,\"auth\":\"Logged In\",\"firstName\":\"Kaylee\",\"gender\":\"F\",\"itemInSession\":0,\"lastName\":\"Summers\",\"length\":null,\"level\":\"free\",\"location\":\"Phoenix-Mesa-Scottsdale, AZ\",\"method\":\"GET\",\"page\":\"Home\",\"registration\":1540344794796.0,\"sessionId\":139,\"song\":null,\"status\":200,\"ts\":1541106106796,\"userAgent\":\"\\\\\"Mozilla\\\\/5.0 (Windows NT 6.1; WOW64) AppleWebKit\\\\/537.36 (KHTML, like Gecko) Chrome\\\\/35.0.1916.153 Safari\\\\/537.36\\\\\"\",\"userId\":\"8\"}\\n{\"artist\":\"Des\\'ree\",\"auth\":\"Logged In\",\"firstName\":\"Kaylee\",\"gender\":\"F\",\"itemInSession\":1,\"lastName\":\"Summers\",\"length\":246.30812,\"level\":\"free\",\"location\":\"Phoenix-Mesa-Scottsdale, AZ\",\"method\":\"PUT\",\"page\":\"NextSong\",\"registration\":1540344794796.0,\"sessionId\":139,\"song\":\"You Gotta Be\",\"status\":200,\"ts\":1541106106796,\"userAgent\":\"\\\\\"Mozilla\\\\/5.0 (Windows NT 6.1; WOW64) AppleWebKit\\\\/537.36 (KHTML, like Gecko) Chrome\\\\/35.0.1916.153 Safari\\\\/537.36\\\\\"\",\"userId\":\"8\"}\\n{\"artist\":null,\"auth\":\"Logged In\",\"firstName\":\"Kaylee\",\"gender\":\"F\",\"itemInSession\":2,\"lastName\":\"Summers\",\"length\":null,\"level\":\"free\",\"location\":\"Phoenix-Mesa-Scottsdale, AZ\",\"method\":\"GET\",\"page\":\"Upgrade\",\"registration\":1540344794796.0,\"sessionId\":139,\"song\":null,\"status\":200,\"ts\":1541106132796,\"userAgent\":\"\\\\\"Mozilla\\\\/5.0 (Windows NT 6.1; WOW64) AppleWebKit\\\\/537.36 (KHTML, like Gecko) Chrome\\\\/35.0.1916.153 Safari\\\\/537.36\\\\\"\",\"userId\":\"8\"}\\n{\"artist\":\"Mr Oizo\",\"auth\":\"Logged In\",\"firstName\":\"Kaylee\",\"gender\":\"F\",\"itemInSession\":3,\"lastName\":\"Summers\",\"length\":144.03873,\"level\":\"free\",\"location\":\"Phoenix-Mesa-Scottsdale, AZ\",\"method\":\"PUT\",\"page\":\"NextSong\",\"registration\":1540344794796.0,\"sessionId\":139,\"song\":\"Flat 55\",\"status\":200,\"ts\":1541106352796,\"userAgent\":\"\\\\\"Mozilla\\\\/5.0 (Windows NT 6.1; WOW64) AppleWebKit\\\\/537.36 (KHTML, like Gecko) Chrome\\\\/35.0.1916.153 Safari\\\\/537.36\\\\\"\",\"userId\":\"8\"}\\n{\"artist\":\"Tamba Trio\",\"auth\":\"Logged In\",\"firstName\":\"Kaylee\",\"gender\":\"F\",\"itemInSession\":4,\"lastName\":\"Summers\",\"length\":177.18812,\"level\":\"free\",\"location\":\"Phoenix-Mesa-Scottsdale, AZ\",\"method\":\"PUT\",\"page\":\"NextSong\",\"registration\":1540344794796.0,\"sessionId\":139,\"song\":\"Quem Quiser Encontrar O Amor\",\"status\":200,\"ts\":1541106496796,\"userAgent\":\"\\\\\"Mozilla\\\\/5.0 (Windows NT 6.1; WOW64) AppleWebKit\\\\/537.36 (KHTML, like Gecko) Chrome\\\\/35.0.1916.153 Safari\\\\/537.36\\\\\"\",\"userId\":\"8\"}\\n{\"artist\":\"The Mars Volta\",\"auth\":\"Logged In\",\"firstName\":\"Kaylee\",\"gender\":\"F\",\"itemInSession\":5,\"lastName\":\"Summers\",\"length\":380.42077,\"level\":\"free\",\"location\":\"Phoenix-Mesa-Scottsdale, AZ\",\"method\":\"PUT\",\"page\":\"NextSong\",\"registration\":1540344794796.0,\"sessionId\":139,\"song\":\"Eriatarka\",\"status\":200,\"ts\":1541106673796,\"userAgent\":\"\\\\\"Mozilla\\\\/5.0 (Windows NT 6.1; WOW64) AppleWebKit\\\\/537.36 (KHTML, like Gecko) Chrome\\\\/35.0.1916.153 Safari\\\\/537.36\\\\\"\",\"userId\":\"8\"}\\n{\"artist\":\"Infected Mushroom\",\"auth\":\"Logged In\",\"firstName\":\"Kaylee\",\"gender\":\"F\",\"itemInSession\":6,\"lastName\":\"Summers\",\"length\":440.2673,\"level\":\"free\",\"location\":\"Phoenix-Mesa-Scottsdale, AZ\",\"method\":\"PUT\",\"page\":\"NextSong\",\"registration\":1540344794796.0,\"sessionId\":139,\"song\":\"Becoming Insane\",\"status\":200,\"ts\":1541107053796,\"userAgent\":\"\\\\\"Mozilla\\\\/5.0 (Windows NT 6.1; WOW64) AppleWebKit\\\\/537.36 (KHTML, like Gecko) Chrome\\\\/35.0.1916.153 Safari\\\\/537.36\\\\\"\",\"userId\":\"8\"}\\n{\"artist\":\"Blue October \\\\/ Imogen Heap\",\"auth\":\"Logged In\",\"firstName\":\"Kaylee\",\"gender\":\"F\",\"itemInSession\":7,\"lastName\":\"Summers\",\"length\":241.3971,\"level\":\"free\",\"location\":\"Phoenix-Mesa-Scottsdale, AZ\",\"method\":\"PUT\",\"page\":\"NextSong\",\"registration\":1540344794796.0,\"sessionId\":139,\"song\":\"Congratulations\",\"status\":200,\"ts\":1541107493796,\"userAgent\":\"\\\\\"Mozilla\\\\/5.0 (Windows NT 6.1; WOW64) AppleWebKit\\\\/537.36 (KHTML, like Gecko) Chrome\\\\/35.0.1916.153 Safari\\\\/537.36\\\\\"\",\"userId\":\"8\"}\\n{\"artist\":\"Girl Talk\",\"auth\":\"Logged In\",\"firstName\":\"Kaylee\",\"gender\":\"F\",\"itemInSession\":8,\"lastName\":\"Summers\",\"length\":160.15628,\"level\":\"free\",\"location\":\"Phoenix-Mesa-Scottsdale, AZ\",\"method\":\"PUT\",\"page\":\"NextSong\",\"registration\":1540344794796.0,\"sessionId\":139,\"song\":\"Once again\",\"status\":200,\"ts\":1541107734796,\"userAgent\":\"\\\\\"Mozilla\\\\/5.0 (Windows NT 6.1; WOW64) AppleWebKit\\\\/537.36 (KHTML, like Gecko) Chrome\\\\/35.0.1916.153 Safari\\\\/537.36\\\\\"\",\"userId\":\"8\"}\\n{\"artist\":\"Black Eyed Peas\",\"auth\":\"Logged In\",\"firstName\":\"Sylvie\",\"gender\":\"F\",\"itemInSession\":0,\"lastName\":\"Cruz\",\"length\":214.93506,\"level\":\"free\",\"location\":\"Washington-Arlington-Alexandria, DC-VA-MD-WV\",\"method\":\"PUT\",\"page\":\"NextSong\",\"registration\":1540266185796.0,\"sessionId\":9,\"song\":\"Pump It\",\"status\":200,\"ts\":1541108520796,\"userAgent\":\"\\\\\"Mozilla\\\\/5.0 (Macintosh; Intel Mac OS X 10_9_4) AppleWebKit\\\\/537.77.4 (KHTML, like Gecko) Version\\\\/7.0.5 Safari\\\\/537.77.4\\\\\"\",\"userId\":\"10\"}\\n{\"artist\":null,\"auth\":\"Logged In\",\"firstName\":\"Ryan\",\"gender\":\"M\",\"itemInSession\":0,\"lastName\":\"Smith\",\"length\":null,\"level\":\"free\",\"location\":\"San Jose-Sunnyvale-Santa Clara, CA\",\"method\":\"GET\",\"page\":\"Home\",\"registration\":1541016707796.0,\"sessionId\":169,\"song\":null,\"status\":200,\"ts\":1541109015796,\"userAgent\":\"\\\\\"Mozilla\\\\/5.0 (X11; Linux x86_64) AppleWebKit\\\\/537.36 (KHTML, like Gecko) Ubuntu Chromium\\\\/36.0.1985.125 Chrome\\\\/36.0.1985.125 Safari\\\\/537.36\\\\\"\",\"userId\":\"26\"}\\n{\"artist\":\"Fall Out Boy\",\"auth\":\"Logged In\",\"firstName\":\"Ryan\",\"gender\":\"M\",\"itemInSession\":1,\"lastName\":\"Smith\",\"length\":200.72444,\"level\":\"free\",\"location\":\"San Jose-Sunnyvale-Santa Clara, CA\",\"method\":\"PUT\",\"page\":\"NextSong\",\"registration\":1541016707796.0,\"sessionId\":169,\"song\":\"Nobody Puts Baby In The Corner\",\"status\":200,\"ts\":1541109125796,\"userAgent\":\"\\\\\"Mozilla\\\\/5.0 (X11; Linux x86_64) AppleWebKit\\\\/537.36 (KHTML, like Gecko) Ubuntu Chromium\\\\/36.0.1985.125 Chrome\\\\/36.0.1985.125 Safari\\\\/537.36\\\\\"\",\"userId\":\"26\"}\\n{\"artist\":\"M.I.A.\",\"auth\":\"Logged In\",\"firstName\":\"Ryan\",\"gender\":\"M\",\"itemInSession\":2,\"lastName\":\"Smith\",\"length\":233.7171,\"level\":\"free\",\"location\":\"San Jose-Sunnyvale-Santa Clara, CA\",\"method\":\"PUT\",\"page\":\"NextSong\",\"registration\":1541016707796.0,\"sessionId\":169,\"song\":\"Mango Pickle Down River (With The Wilcannia Mob)\",\"status\":200,\"ts\":1541109325796,\"userAgent\":\"\\\\\"Mozilla\\\\/5.0 (X11; Linux x86_64) AppleWebKit\\\\/537.36 (KHTML, like Gecko) Ubuntu Chromium\\\\/36.0.1985.125 Chrome\\\\/36.0.1985.125 Safari\\\\/537.36\\\\\"\",\"userId\":\"26\"}\\n{\"artist\":\"Survivor\",\"auth\":\"Logged In\",\"firstName\":\"Jayden\",\"gender\":\"M\",\"itemInSession\":0,\"lastName\":\"Fox\",\"length\":245.36771,\"level\":\"free\",\"location\":\"New Orleans-Metairie, LA\",\"method\":\"PUT\",\"page\":\"NextSong\",\"registration\":1541033612796.0,\"sessionId\":100,\"song\":\"Eye Of The Tiger\",\"status\":200,\"ts\":1541110994796,\"userAgent\":\"\\\\\"Mozilla\\\\/5.0 (Windows NT 6.3; WOW64) AppleWebKit\\\\/537.36 (KHTML, like Gecko) Chrome\\\\/36.0.1985.143 Safari\\\\/537.36\\\\\"\",\"userId\":\"101\"}'"
      ]
     },
     "execution_count": 45,
     "metadata": {},
     "output_type": "execute_result"
    }
   ],
   "source": [
    "obj = s3.Object(\"udacity-dend\", g[1].key)\n",
    "body = obj.get()['Body'].read()\n",
    "dict_str = body.decode(\"UTF-8\")\n",
    "dict_str"
   ]
  },
  {
   "cell_type": "code",
   "execution_count": 42,
   "metadata": {},
   "outputs": [],
   "source": []
  }
 ],
 "metadata": {
  "kernelspec": {
   "display_name": "udacity_dend",
   "language": "python",
   "name": "udacity_dend"
  },
  "language_info": {
   "codemirror_mode": {
    "name": "ipython",
    "version": 3
   },
   "file_extension": ".py",
   "mimetype": "text/x-python",
   "name": "python",
   "nbconvert_exporter": "python",
   "pygments_lexer": "ipython3",
   "version": "3.7.4"
  }
 },
 "nbformat": 4,
 "nbformat_minor": 4
}
